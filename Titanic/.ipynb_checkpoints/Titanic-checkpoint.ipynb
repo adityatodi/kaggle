{
 "cells": [
  {
   "cell_type": "code",
   "execution_count": 483,
   "metadata": {},
   "outputs": [],
   "source": [
    "import pandas as pd\n",
    "import numpy as np\n",
    "import matplotlib as matplb\n",
    "from sklearn.preprocessing import LabelEncoder\n",
    "from sklearn.ensemble import GradientBoostingClassifier\n",
    "from sklearn.model_selection import train_test_split\n",
    "from sklearn.metrics import accuracy_score\n",
    "import seaborn as sns"
   ]
  },
  {
   "cell_type": "code",
   "execution_count": 484,
   "metadata": {},
   "outputs": [],
   "source": [
    "titanic_df = pd.read_csv('titanic/train.csv')\n",
    "X_test = pd.read_csv('titanic/test.csv')\n",
    "titanic_df_test = pd.read_csv('titanic/gender_submission.csv')\n",
    "y_test = titanic_df_test['Survived']\n",
    "y = titanic_df[['Survived']]\n",
    "X = titanic_df.drop(columns = ['Survived'])"
   ]
  },
  {
   "cell_type": "code",
   "execution_count": 485,
   "metadata": {},
   "outputs": [],
   "source": [
    "def pre_processs(X) :\n",
    "    X = X.drop(columns = ['Ticket','Name','Cabin','PassengerId'])\n",
    "    mapping = {'female': 0, 'male': 1}\n",
    "    X = X.replace({'Sex': mapping})\n",
    "    mapping = {'C': 0, 'S': 1, 'Q': 2}\n",
    "    X = X.replace({'Embarked': mapping})\n",
    "    X[\"Age\"].fillna(X.groupby(['Pclass','Sex'])['Age'].transform(\"mean\"), inplace=True)\n",
    "    X['Age'] = pd.cut(X.Age,bins=[0,4,17,38,99],labels=[1,2,3,4])\n",
    "\n",
    "    X['Fare'] = pd.cut(X.Fare,bins=[-1,20,40,60,80,100,1000],labels=[1,2,3,4,5,6])\n",
    "    return X"
   ]
  },
  {
   "cell_type": "code",
   "execution_count": 486,
   "metadata": {},
   "outputs": [
    {
     "name": "stderr",
     "output_type": "stream",
     "text": [
      "/Users/aditya/opt/anaconda3/lib/python3.8/site-packages/pandas/core/indexing.py:670: SettingWithCopyWarning: \n",
      "A value is trying to be set on a copy of a slice from a DataFrame\n",
      "\n",
      "See the caveats in the documentation: https://pandas.pydata.org/pandas-docs/stable/user_guide/indexing.html#returning-a-view-versus-a-copy\n",
      "  iloc._setitem_with_indexer(indexer, value)\n"
     ]
    }
   ],
   "source": [
    "X = pre_processs(X)\n",
    "X['Embarked'].loc[61] = 1.0\n",
    "X['Embarked'].loc[829] = 1.0"
   ]
  },
  {
   "cell_type": "code",
   "execution_count": 487,
   "metadata": {},
   "outputs": [],
   "source": [
    "pId = X_test['PassengerId']"
   ]
  },
  {
   "cell_type": "code",
   "execution_count": 488,
   "metadata": {},
   "outputs": [],
   "source": [
    "X_test = pre_processs(X_test)"
   ]
  },
  {
   "cell_type": "code",
   "execution_count": 489,
   "metadata": {},
   "outputs": [],
   "source": [
    "model = GradientBoostingClassifier(n_estimators=100, learning_rate=1.2,max_depth=1, random_state=3).fit(X, y['Survived'])"
   ]
  },
  {
   "cell_type": "code",
   "execution_count": 490,
   "metadata": {},
   "outputs": [],
   "source": [
    "y_pred = model.predict(X_test)"
   ]
  },
  {
   "cell_type": "code",
   "execution_count": 491,
   "metadata": {},
   "outputs": [
    {
     "name": "stdout",
     "output_type": "stream",
     "text": [
      "Accuracy: 93.06%\n"
     ]
    }
   ],
   "source": [
    "accuracy = accuracy_score(y_test, y_pred)\n",
    "print(\"Accuracy: %.2f%%\" % (accuracy * 100.0))"
   ]
  },
  {
   "cell_type": "code",
   "execution_count": 492,
   "metadata": {},
   "outputs": [],
   "source": [
    "titanic_df_pred = pd.DataFrame(list(zip(pId, y_pred)),columns =['PassengerId', 'Survived'])"
   ]
  },
  {
   "cell_type": "code",
   "execution_count": 493,
   "metadata": {},
   "outputs": [],
   "source": [
    "titanic_df_pred.to_csv(\"titanic_df_pred.csv\", index=False)"
   ]
  }
 ],
 "metadata": {
  "kernelspec": {
   "display_name": "Python 3",
   "language": "python",
   "name": "python3"
  },
  "language_info": {
   "codemirror_mode": {
    "name": "ipython",
    "version": 3
   },
   "file_extension": ".py",
   "mimetype": "text/x-python",
   "name": "python",
   "nbconvert_exporter": "python",
   "pygments_lexer": "ipython3",
   "version": "3.8.5"
  }
 },
 "nbformat": 4,
 "nbformat_minor": 4
}
